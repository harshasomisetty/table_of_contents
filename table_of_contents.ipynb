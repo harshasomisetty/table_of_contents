{
 "cells": [
  {
   "cell_type": "code",
   "execution_count": 1,
   "source": [
    "import sys\n",
    "import os\n",
    "import re\n",
    "\n",
    "if not os.path.exists(\"books\"):\n",
    "    os.makedirs(\"books\")"
   ],
   "outputs": [],
   "metadata": {}
  },
  {
   "cell_type": "code",
   "execution_count": 27,
   "source": [
    "# Add desired pdf to book directory, chance title variable to appriate pdf title\n",
    "title = \"Flow-Mihaly_Csikszentmihalyi\"\n"
   ],
   "outputs": [],
   "metadata": {}
  },
  {
   "cell_type": "code",
   "execution_count": null,
   "source": [
    "# Then copy paste in the book's table of contents in this generated text file\n",
    "with open(\"books/\"+title+\"_toc.txt\", \"w+\") as file:\n",
    "    file.write(\"*Copy Paste in the Book's Table of Contents here\")"
   ],
   "outputs": [],
   "metadata": {}
  },
  {
   "cell_type": "code",
   "execution_count": 12,
   "source": [
    "# This does basic formatting of the pasted in table of contents. \n",
    "\n",
    "def trim_contents(title):\n",
    "    with open(\"books/\"+title+\"_toc.txt\", \"r\") as file:\n",
    "        text = file.read()\n",
    "        text = re.sub(r\"(\\.+)\", \"\", text)\n",
    "        # text = re.sub(r\"(/\\n:)\", \":\", text) #TODO edit colons to stay on same line\n",
    "        text = re.sub(r\"( \\d+)\", r\"\\1 \\n\", text)\n",
    "\n",
    "    lines = [line.rstrip() for line in text.split(\"\\n\") if line.strip()]\n",
    "\n",
    "    with open(\"books/\"+title+\"_toc_edited.txt\", \"w+\") as file:\n",
    "        for line in lines:\n",
    "            file.write(line.replace(\"\\t\", \" \").rstrip()+\"\\n\")\n",
    "            \n",
    "trim_contents(title)"
   ],
   "outputs": [],
   "metadata": {}
  },
  {
   "cell_type": "code",
   "execution_count": null,
   "source": [
    "# Preview the changes in the _edited.txt file, and format so that it matches the _edited_sample.txt file\n",
    "# Essentially, calculate first_page = y - z, where \n",
    "# y is the page number in the pdf file structure of the first page int he first chapter\n",
    "# and z is the actual page number of the first page (usually 1)\n",
    "\n",
    "# Also, each space means that heading is a subheading of a previous heading. Please look at the example files and books for more info.\n",
    "\n",
    "\n",
    "first_page = 4"
   ],
   "outputs": [],
   "metadata": {}
  },
  {
   "cell_type": "code",
   "execution_count": 43,
   "source": [
    "# This method generates the chapter titles and their pages according to the pdf file strucutre\n",
    "\n",
    "def update_pages(title, first_page):\n",
    "    tit_list = []\n",
    "    with open(\"books/\"+title+\"_toc_edited.txt\", \"r\") as file:\n",
    "        for line in file.readlines():\n",
    "            try:\n",
    "                temp = line.rstrip().rsplit(\" \", 1)\n",
    "                tit_list.append([temp[0], int(temp[1].strip())])\n",
    "            except Exception as e:\n",
    "                print(e)\n",
    "                print(line)\n",
    "                print(temp)\n",
    "        lag = first_page - tit_list[0][1]\n",
    "        \n",
    "    for i in range(len(tit_list)):\n",
    "        tit_list[i][1] += lag\n",
    "\n",
    "    return tit_list\n",
    "\n",
    "    \n",
    "titles = update_pages(title, first_page)"
   ],
   "outputs": [],
   "metadata": {}
  },
  {
   "cell_type": "code",
   "execution_count": 44,
   "source": [
    "# generates meta content to be used for the final pdf from the previous generated titles and their pages\n",
    "\n",
    "def gen_content(titles):\n",
    "    contents = []\n",
    "    for i in titles:\n",
    "        level = len(i[0]) - len(i[0].lstrip())\n",
    "        contents.append(\"BookmarkBegin\")\n",
    "        contents.append(\"BookmarkTitle: \"+i[0].lstrip())\n",
    "        contents.append(\"BookmarkLevel: \"+ str(level+1))\n",
    "        contents.append(\"BookmarkPageNumber: \"+ str(i[1]))\n",
    "    return contents\n",
    "\n",
    "    \n",
    "new_meta_content = gen_content(titles)"
   ],
   "outputs": [],
   "metadata": {}
  },
  {
   "cell_type": "code",
   "execution_count": 45,
   "source": [
    "#generates current meta file for the pdf using pdftk, removes existing bookmarks, adds in proper bookmarks from previous file\n",
    "\n",
    "def update_meta_content(title, contents):\n",
    "    book = \"books/\"+title+\".pdf\"\n",
    "    book1 = \"books/\"+title+\"1.pdf\"\n",
    "    meta = \"books/\"+title+\"_meta.txt\"\n",
    "    os.system(\"pdftk \" + book + \" dump_data output books/\" + title + \"_meta.txt\")\n",
    "    \n",
    "    with open(meta, \"r\") as file:\n",
    "        meta_lines = []\n",
    "        for ind, l in enumerate(file.readlines()):\n",
    "            if \"Bookmark\" not in l:\n",
    "                meta_lines.append(l.strip())\n",
    "            if \"NumberOfPages\" in l:\n",
    "                page_index = ind\n",
    "        final_meta = meta_lines[:page_index]+ contents + meta_lines[page_index:]\n",
    "\n",
    "    with open(meta, \"w+\") as file:\n",
    "        for l in final_meta:\n",
    "            file.write(l+\"\\n\")\n",
    "\n",
    "    os.system(\"pdftk \" + book + \" update_info \" + meta + \" output \" + book1)\n",
    "    os.system(\"rm \" + meta)\n",
    "    os.system(\"mv \" + book1 + \" \" + book)\n",
    "\n",
    "update_meta_content(title, new_meta_content)"
   ],
   "outputs": [],
   "metadata": {}
  }
 ],
 "metadata": {
  "orig_nbformat": 4,
  "language_info": {
   "name": "python",
   "version": "3.7.6",
   "mimetype": "text/x-python",
   "codemirror_mode": {
    "name": "ipython",
    "version": 3
   },
   "pygments_lexer": "ipython3",
   "nbconvert_exporter": "python",
   "file_extension": ".py"
  },
  "kernelspec": {
   "name": "python3",
   "display_name": "Python 3.7.6 64-bit ('3.7.6': pyenv)"
  },
  "interpreter": {
   "hash": "07f2c2b2e88ea8d30f00093d797471deb47895144ef5836de86b80a301cafd03"
  }
 },
 "nbformat": 4,
 "nbformat_minor": 2
}